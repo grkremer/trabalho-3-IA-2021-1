{
 "cells": [
  {
   "cell_type": "markdown",
   "source": [
    "**Pressione SHIFT+ENTER para executar a célula**"
   ],
   "metadata": {
    "id": "fM1tzPvICydP"
   }
  },
  {
   "cell_type": "markdown",
   "source": [
    "# Alegrete\n",
    "\n",
    "Este notebook fornece algumas visualizações para o trabalho de regressão linear. Para conseguir usar, implemente as funções no seu `alegrete.py` e tenha as bibliotecas `numpy` e `matplotlib` instaladas.\n",
    "\n",
    "O notebook usa um conjunto de dados sintetico. Adapte-o para carregar e usar os dados do `alegrete.csv`."
   ],
   "metadata": {
    "id": "EtGzW6k4-epp"
   }
  },
  {
   "cell_type": "markdown",
   "source": [
    "### Imports das bibliotecas de plot e da solucao implementada"
   ],
   "metadata": {}
  },
  {
   "cell_type": "code",
   "execution_count": 1,
   "source": [
    "%matplotlib inline\r\n",
    "from IPython.display import HTML\r\n",
    "import numpy as np\r\n",
    "import matplotlib.pyplot as plt\r\n",
    "import matplotlib.animation as animation\r\n",
    "\r\n",
    "import alegrete"
   ],
   "outputs": [],
   "metadata": {
    "executionInfo": {
     "elapsed": 633,
     "status": "ok",
     "timestamp": 1631925768986,
     "user": {
      "displayName": "Anderson Tavares",
      "photoUrl": "https://lh3.googleusercontent.com/a-/AOh14GgCwYk7tp3nP6ZaF03vKAzTMQ0Bx5FrmHg11c0E=s64",
      "userId": "08026797557963935348"
     },
     "user_tz": 180
    },
    "id": "k77xaJfA-epq"
   }
  },
  {
   "cell_type": "markdown",
   "source": [
    "### Visualizacao dos dados"
   ],
   "metadata": {}
  },
  {
   "cell_type": "code",
   "execution_count": 2,
   "source": [
    "# dataset do Quiz de Otimizacao Continua -- troque para carregar o alegrete.csv\r\n",
    "quiz_data = np.array([\r\n",
    "    [1, 3],\r\n",
    "    [2, 4],\r\n",
    "    [3, 4],\r\n",
    "    [4, 2]\r\n",
    "])\r\n",
    "\r\n",
    "#Gráfico dos dados\r\n",
    "plt.figure(figsize=(6, 2))\r\n",
    "plt.scatter(quiz_data[:,0], quiz_data[:,1])\r\n",
    "plt.xlabel('x')\r\n",
    "plt.ylabel('y')\r\n",
    "plt.title('Dados do quiz de otimizacao continua')\r\n",
    "plt.show()"
   ],
   "outputs": [
    {
     "output_type": "display_data",
     "data": {
      "image/png": "[encoded data removed]",
      "text/plain": [
       "<Figure size 432x144 with 1 Axes>"
      ]
     },
     "metadata": {
      "needs_background": "light"
     }
    }
   ],
   "metadata": {
    "colab": {
     "base_uri": "https://localhost:8080/",
     "height": 406
    },
    "executionInfo": {
     "elapsed": 19,
     "status": "ok",
     "timestamp": 1631925771411,
     "user": {
      "displayName": "Anderson Tavares",
      "photoUrl": "https://lh3.googleusercontent.com/a-/AOh14GgCwYk7tp3nP6ZaF03vKAzTMQ0Bx5FrmHg11c0E=s64",
      "userId": "08026797557963935348"
     },
     "user_tz": 180
    },
    "id": "E9HoBdK3-epu",
    "outputId": "198a4259-e153-4da2-e57b-3dba321b972c"
   }
  },
  {
   "cell_type": "markdown",
   "source": [
    "### Execucao da regressao linear e calculo do EQM por epoca/iteracao"
   ],
   "metadata": {
    "id": "wnmqepye-ep_"
   }
  },
  {
   "cell_type": "code",
   "execution_count": 4,
   "source": [
    "theta_0s, theta_1s = alegrete.fit(\r\n",
    "    quiz_data, theta_0=0, theta_1=0, \r\n",
    "    alpha=0.1, num_iterations=100\r\n",
    ")\r\n",
    "\r\n",
    "# valores finais de theta0 e theta1\r\n",
    "final_th0, final_th1 = theta_0s[-1], theta_1s[-1]\r\n",
    "\r\n",
    "mse_list = [alegrete.compute_mse(th0, th1, quiz_data) for th0, th1 in zip(theta_0s, theta_1s)]\r\n",
    "print(f\"EQM final: {mse_list[-1]}\")\r\n",
    "\r\n",
    "\r\n",
    "plt.plot(mse_list)\r\n",
    "plt.xlabel('Epoca/iteracao')\r\n",
    "plt.ylabel('EQM')\r\n",
    "plt.show()"
   ],
   "outputs": [
    {
     "output_type": "error",
     "ename": "NotImplementedError",
     "evalue": "",
     "traceback": [
      "\u001b[1;31m---------------------------------------------------------------------------\u001b[0m",
      "\u001b[1;31mNotImplementedError\u001b[0m                       Traceback (most recent call last)",
      "\u001b[1;32mC:\\Users\\MARCOA~1\\AppData\\Local\\Temp/ipykernel_3436/274797459.py\u001b[0m in \u001b[0;36m<module>\u001b[1;34m\u001b[0m\n\u001b[1;32m----> 1\u001b[1;33m theta_0s, theta_1s = alegrete.fit(\n\u001b[0m\u001b[0;32m      2\u001b[0m     \u001b[0mquiz_data\u001b[0m\u001b[1;33m,\u001b[0m \u001b[0mtheta_0\u001b[0m\u001b[1;33m=\u001b[0m\u001b[1;36m0\u001b[0m\u001b[1;33m,\u001b[0m \u001b[0mtheta_1\u001b[0m\u001b[1;33m=\u001b[0m\u001b[1;36m0\u001b[0m\u001b[1;33m,\u001b[0m\u001b[1;33m\u001b[0m\u001b[1;33m\u001b[0m\u001b[0m\n\u001b[0;32m      3\u001b[0m     \u001b[0malpha\u001b[0m\u001b[1;33m=\u001b[0m\u001b[1;36m0.1\u001b[0m\u001b[1;33m,\u001b[0m \u001b[0mnum_iterations\u001b[0m\u001b[1;33m=\u001b[0m\u001b[1;36m100\u001b[0m\u001b[1;33m\u001b[0m\u001b[1;33m\u001b[0m\u001b[0m\n\u001b[0;32m      4\u001b[0m )\n\u001b[0;32m      5\u001b[0m \u001b[1;33m\u001b[0m\u001b[0m\n",
      "\u001b[1;32mc:\\Users\\MarcoAntonio\\Documents\\GitHub\\trabalho-3-IA-2021-1\\alegrete.py\u001b[0m in \u001b[0;36mfit\u001b[1;34m(data, theta_0, theta_1, alpha, num_iterations)\u001b[0m\n\u001b[0;32m     61\u001b[0m     \u001b[1;33m:\u001b[0m\u001b[1;32mreturn\u001b[0m\u001b[1;33m:\u001b[0m \u001b[0mlist\u001b[0m\u001b[1;33m,\u001b[0m\u001b[0mlist\u001b[0m \u001b[1;33m-\u001b[0m \u001b[0muma\u001b[0m \u001b[0mlista\u001b[0m \u001b[0mcom\u001b[0m \u001b[0mos\u001b[0m \u001b[0mtheta_0\u001b[0m \u001b[0me\u001b[0m \u001b[0moutra\u001b[0m \u001b[0mcom\u001b[0m \u001b[0mos\u001b[0m \u001b[0mtheta_1\u001b[0m \u001b[0mobtidos\u001b[0m \u001b[0mao\u001b[0m \u001b[0mlongo\u001b[0m \u001b[0mda\u001b[0m \u001b[0mexecução\u001b[0m\u001b[1;33m\u001b[0m\u001b[1;33m\u001b[0m\u001b[0m\n\u001b[0;32m     62\u001b[0m     \"\"\"\n\u001b[1;32m---> 63\u001b[1;33m     \u001b[1;32mraise\u001b[0m \u001b[0mNotImplementedError\u001b[0m  \u001b[1;31m# substituir pelo seu codigo\u001b[0m\u001b[1;33m\u001b[0m\u001b[1;33m\u001b[0m\u001b[0m\n\u001b[0m",
      "\u001b[1;31mNotImplementedError\u001b[0m: "
     ]
    }
   ],
   "metadata": {
    "colab": {
     "base_uri": "https://localhost:8080/",
     "height": 404
    },
    "executionInfo": {
     "elapsed": 312,
     "status": "ok",
     "timestamp": 1631925777760,
     "user": {
      "displayName": "Anderson Tavares",
      "photoUrl": "https://lh3.googleusercontent.com/a-/AOh14GgCwYk7tp3nP6ZaF03vKAzTMQ0Bx5FrmHg11c0E=s64",
      "userId": "08026797557963935348"
     },
     "user_tz": 180
    },
    "id": "x1VREIE7-eqA",
    "outputId": "f50296d8-a051-4adb-9625-71a735de31ad"
   }
  },
  {
   "cell_type": "markdown",
   "source": [
    "### Plot da curva final"
   ],
   "metadata": {
    "id": "5v-y-qI3-ep7"
   }
  },
  {
   "cell_type": "code",
   "execution_count": null,
   "source": [
    "theta_0s, theta_1s = alegrete.fit(\r\n",
    "    quiz_data, theta_0=0, theta_1=0, \r\n",
    "    alpha=0.1, num_iterations=100\r\n",
    ")\r\n",
    "\r\n",
    "# valores finais de theta0 e theta1\r\n",
    "final_th0, final_th1 = theta_0s[-1], theta_1s[-1]\r\n",
    "\r\n",
    "#Imprimir parâmetros otimizados\r\n",
    "print (f'Curva encontrada: {final_th1}*x + {final_th0}')\r\n",
    "\r\n",
    "#plota os dados\r\n",
    "plt.figure(figsize=(4, 2))\r\n",
    "plt.scatter(quiz_data[:,0], quiz_data[:,1])\r\n",
    "\r\n",
    "# plota a curva de ajuste\r\n",
    "pred = final_th1*quiz_data[:,0] + final_th0\r\n",
    "plt.plot(quiz_data[:,0], pred, c='r')\r\n",
    "plt.show()\r\n",
    "\r\n",
    "\r\n"
   ],
   "outputs": [],
   "metadata": {
    "colab": {
     "base_uri": "https://localhost:8080/"
    },
    "executionInfo": {
     "elapsed": 12,
     "status": "ok",
     "timestamp": 1631925776074,
     "user": {
      "displayName": "Anderson Tavares",
      "photoUrl": "https://lh3.googleusercontent.com/a-/AOh14GgCwYk7tp3nP6ZaF03vKAzTMQ0Bx5FrmHg11c0E=s64",
      "userId": "08026797557963935348"
     },
     "user_tz": 180
    },
    "id": "WV6KIdPq-ep7",
    "outputId": "4bd34c8f-494f-45e0-97fe-159098868226"
   }
  },
  {
   "cell_type": "markdown",
   "source": [
    "### Progresso da descida do gradiente com o número de iterações\n",
    "\n",
    "Execute a celula e use os controles abaixo do grafico para visualizar o progresso do seu ajuste\n",
    "\n",
    "Pode aparecer um grafico \"extra\" abaixo da animacao, apenas ignore."
   ],
   "metadata": {
    "id": "XeXdBWc-Cic-"
   }
  },
  {
   "cell_type": "code",
   "execution_count": null,
   "source": [
    "fig = plt.figure(figsize=(4, 2))\n",
    "ax = fig.add_subplot(111)\n",
    "\n",
    "# conjunto de dados\n",
    "ax.scatter(quiz_data[:,0], quiz_data[:,1])\n",
    "\n",
    "# linha com os valores iniciais dos parametros\n",
    "pred = theta_1s[0]*quiz_data[:,0] + theta_0s[0]\n",
    "line, = ax.plot(quiz_data[:,0], pred, '-',c='r')\n",
    "\n",
    "# funcao que atualiza a linha a cada passo\n",
    "def animate(i):\n",
    "    pred = theta_1s[i] * quiz_data[:,0] + theta_0s[i]\n",
    "    line.set_ydata(pred)\n",
    "    return line,\n",
    "\n",
    "# mude interval para trocar a velocidade da animacao\n",
    "ani = animation.FuncAnimation(fig, animate, frames=len(theta_0s), interval=20, save_count=50)\n",
    "HTML(ani.to_jshtml())"
   ],
   "outputs": [],
   "metadata": {
    "colab": {
     "base_uri": "https://localhost:8080/",
     "height": 892
    },
    "executionInfo": {
     "elapsed": 12319,
     "status": "ok",
     "timestamp": 1631925800823,
     "user": {
      "displayName": "Anderson Tavares",
      "photoUrl": "https://lh3.googleusercontent.com/a-/AOh14GgCwYk7tp3nP6ZaF03vKAzTMQ0Bx5FrmHg11c0E=s64",
      "userId": "08026797557963935348"
     },
     "user_tz": 180
    },
    "id": "pHGbi8nY-eqI",
    "outputId": "daa1bdeb-84ac-4e41-f71a-59b3e12e3090"
   }
  }
 ],
 "metadata": {
  "kernelspec": {
   "name": "python3",
   "display_name": "Python 3.8.5 32-bit"
  },
  "language_info": {
   "codemirror_mode": {
    "name": "ipython",
    "version": 3
   },
   "file_extension": ".py",
   "mimetype": "text/x-python",
   "name": "python",
   "nbconvert_exporter": "python",
   "pygments_lexer": "ipython3",
   "version": "3.8.5"
  },
  "interpreter": {
   "hash": "2130b60b724e4b53d2f06453362cf0721525e824d0831f25c09d097a51bf039c"
  }
 },
 "nbformat": 4,
 "nbformat_minor": 1
}